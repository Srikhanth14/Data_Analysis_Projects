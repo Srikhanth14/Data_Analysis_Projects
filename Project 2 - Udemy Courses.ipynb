{
 "cells": [
  {
   "cell_type": "markdown",
   "id": "0da9d50f",
   "metadata": {},
   "source": [
    "# Importing the dataset"
   ]
  },
  {
   "cell_type": "code",
   "execution_count": 31,
   "id": "13645f4a",
   "metadata": {},
   "outputs": [
    {
     "name": "stdout",
     "output_type": "stream",
     "text": [
      "Requirement already satisfied: seaborn in c:\\users\\elcot\\appdata\\local\\programs\\python\\python311\\lib\\site-packages (0.12.2)\n",
      "Requirement already satisfied: numpy!=1.24.0,>=1.17 in c:\\users\\elcot\\appdata\\local\\programs\\python\\python311\\lib\\site-packages (from seaborn) (1.24.3)\n",
      "Requirement already satisfied: pandas>=0.25 in c:\\users\\elcot\\appdata\\local\\programs\\python\\python311\\lib\\site-packages (from seaborn) (2.0.2)\n",
      "Requirement already satisfied: matplotlib!=3.6.1,>=3.1 in c:\\users\\elcot\\appdata\\local\\programs\\python\\python311\\lib\\site-packages (from seaborn) (3.7.2)\n",
      "Requirement already satisfied: contourpy>=1.0.1 in c:\\users\\elcot\\appdata\\local\\programs\\python\\python311\\lib\\site-packages (from matplotlib!=3.6.1,>=3.1->seaborn) (1.1.0)\n",
      "Requirement already satisfied: cycler>=0.10 in c:\\users\\elcot\\appdata\\local\\programs\\python\\python311\\lib\\site-packages (from matplotlib!=3.6.1,>=3.1->seaborn) (0.11.0)\n",
      "Requirement already satisfied: fonttools>=4.22.0 in c:\\users\\elcot\\appdata\\local\\programs\\python\\python311\\lib\\site-packages (from matplotlib!=3.6.1,>=3.1->seaborn) (4.41.0)\n",
      "Requirement already satisfied: kiwisolver>=1.0.1 in c:\\users\\elcot\\appdata\\local\\programs\\python\\python311\\lib\\site-packages (from matplotlib!=3.6.1,>=3.1->seaborn) (1.4.4)\n",
      "Requirement already satisfied: packaging>=20.0 in c:\\users\\elcot\\appdata\\local\\programs\\python\\python311\\lib\\site-packages (from matplotlib!=3.6.1,>=3.1->seaborn) (23.1)\n",
      "Requirement already satisfied: pillow>=6.2.0 in c:\\users\\elcot\\appdata\\local\\programs\\python\\python311\\lib\\site-packages (from matplotlib!=3.6.1,>=3.1->seaborn) (10.0.0)\n",
      "Requirement already satisfied: pyparsing<3.1,>=2.3.1 in c:\\users\\elcot\\appdata\\local\\programs\\python\\python311\\lib\\site-packages (from matplotlib!=3.6.1,>=3.1->seaborn) (3.0.9)\n",
      "Requirement already satisfied: python-dateutil>=2.7 in c:\\users\\elcot\\appdata\\local\\programs\\python\\python311\\lib\\site-packages (from matplotlib!=3.6.1,>=3.1->seaborn) (2.8.2)\n",
      "Requirement already satisfied: pytz>=2020.1 in c:\\users\\elcot\\appdata\\local\\programs\\python\\python311\\lib\\site-packages (from pandas>=0.25->seaborn) (2023.3)\n",
      "Requirement already satisfied: tzdata>=2022.1 in c:\\users\\elcot\\appdata\\local\\programs\\python\\python311\\lib\\site-packages (from pandas>=0.25->seaborn) (2023.3)\n",
      "Requirement already satisfied: six>=1.5 in c:\\users\\elcot\\appdata\\local\\programs\\python\\python311\\lib\\site-packages (from python-dateutil>=2.7->matplotlib!=3.6.1,>=3.1->seaborn) (1.16.0)\n"
     ]
    },
    {
     "name": "stderr",
     "output_type": "stream",
     "text": [
      "\n",
      "[notice] A new release of pip is available: 23.1.2 -> 23.2.1\n",
      "[notice] To update, run: python.exe -m pip install --upgrade pip\n"
     ]
    }
   ],
   "source": [
    "!pip install seaborn\n",
    "import pandas as pd\n",
    "import matplotlib.pyplot as plt\n",
    "import seaborn as sns"
   ]
  },
  {
   "cell_type": "code",
   "execution_count": 32,
   "id": "28ac13a6",
   "metadata": {},
   "outputs": [
    {
     "data": {
      "text/html": [
       "<div>\n",
       "<style scoped>\n",
       "    .dataframe tbody tr th:only-of-type {\n",
       "        vertical-align: middle;\n",
       "    }\n",
       "\n",
       "    .dataframe tbody tr th {\n",
       "        vertical-align: top;\n",
       "    }\n",
       "\n",
       "    .dataframe thead th {\n",
       "        text-align: right;\n",
       "    }\n",
       "</style>\n",
       "<table border=\"1\" class=\"dataframe\">\n",
       "  <thead>\n",
       "    <tr style=\"text-align: right;\">\n",
       "      <th></th>\n",
       "      <th>course_id</th>\n",
       "      <th>course_title</th>\n",
       "      <th>url</th>\n",
       "      <th>is_paid</th>\n",
       "      <th>price</th>\n",
       "      <th>num_subscribers</th>\n",
       "      <th>num_reviews</th>\n",
       "      <th>num_lectures</th>\n",
       "      <th>level</th>\n",
       "      <th>content_duration</th>\n",
       "      <th>published_timestamp</th>\n",
       "      <th>subject</th>\n",
       "    </tr>\n",
       "  </thead>\n",
       "  <tbody>\n",
       "    <tr>\n",
       "      <th>0</th>\n",
       "      <td>1070968</td>\n",
       "      <td>Ultimate Investment Banking Course</td>\n",
       "      <td>https://www.udemy.com/ultimate-investment-bank...</td>\n",
       "      <td>True</td>\n",
       "      <td>200</td>\n",
       "      <td>2147</td>\n",
       "      <td>23</td>\n",
       "      <td>51</td>\n",
       "      <td>All Levels</td>\n",
       "      <td>1.5</td>\n",
       "      <td>2017-01-18T20:58:58Z</td>\n",
       "      <td>Business Finance</td>\n",
       "    </tr>\n",
       "    <tr>\n",
       "      <th>1</th>\n",
       "      <td>1113822</td>\n",
       "      <td>Complete GST Course &amp; Certification - Grow You...</td>\n",
       "      <td>https://www.udemy.com/goods-and-services-tax/</td>\n",
       "      <td>True</td>\n",
       "      <td>75</td>\n",
       "      <td>2792</td>\n",
       "      <td>923</td>\n",
       "      <td>274</td>\n",
       "      <td>All Levels</td>\n",
       "      <td>39.0</td>\n",
       "      <td>2017-03-09T16:34:20Z</td>\n",
       "      <td>Business Finance</td>\n",
       "    </tr>\n",
       "    <tr>\n",
       "      <th>2</th>\n",
       "      <td>1006314</td>\n",
       "      <td>Financial Modeling for Business Analysts and C...</td>\n",
       "      <td>https://www.udemy.com/financial-modeling-for-b...</td>\n",
       "      <td>True</td>\n",
       "      <td>45</td>\n",
       "      <td>2174</td>\n",
       "      <td>74</td>\n",
       "      <td>51</td>\n",
       "      <td>Intermediate Level</td>\n",
       "      <td>2.5</td>\n",
       "      <td>2016-12-19T19:26:30Z</td>\n",
       "      <td>Business Finance</td>\n",
       "    </tr>\n",
       "    <tr>\n",
       "      <th>3</th>\n",
       "      <td>1210588</td>\n",
       "      <td>Beginner to Pro - Financial Analysis in Excel ...</td>\n",
       "      <td>https://www.udemy.com/complete-excel-finance-c...</td>\n",
       "      <td>True</td>\n",
       "      <td>95</td>\n",
       "      <td>2451</td>\n",
       "      <td>11</td>\n",
       "      <td>36</td>\n",
       "      <td>All Levels</td>\n",
       "      <td>3.0</td>\n",
       "      <td>2017-05-30T20:07:24Z</td>\n",
       "      <td>Business Finance</td>\n",
       "    </tr>\n",
       "    <tr>\n",
       "      <th>4</th>\n",
       "      <td>1011058</td>\n",
       "      <td>How To Maximize Your Profits Trading Options</td>\n",
       "      <td>https://www.udemy.com/how-to-maximize-your-pro...</td>\n",
       "      <td>True</td>\n",
       "      <td>200</td>\n",
       "      <td>1276</td>\n",
       "      <td>45</td>\n",
       "      <td>26</td>\n",
       "      <td>Intermediate Level</td>\n",
       "      <td>2.0</td>\n",
       "      <td>2016-12-13T14:57:18Z</td>\n",
       "      <td>Business Finance</td>\n",
       "    </tr>\n",
       "  </tbody>\n",
       "</table>\n",
       "</div>"
      ],
      "text/plain": [
       "   course_id                                       course_title  \\\n",
       "0    1070968                 Ultimate Investment Banking Course   \n",
       "1    1113822  Complete GST Course & Certification - Grow You...   \n",
       "2    1006314  Financial Modeling for Business Analysts and C...   \n",
       "3    1210588  Beginner to Pro - Financial Analysis in Excel ...   \n",
       "4    1011058       How To Maximize Your Profits Trading Options   \n",
       "\n",
       "                                                 url  is_paid  price  \\\n",
       "0  https://www.udemy.com/ultimate-investment-bank...     True    200   \n",
       "1      https://www.udemy.com/goods-and-services-tax/     True     75   \n",
       "2  https://www.udemy.com/financial-modeling-for-b...     True     45   \n",
       "3  https://www.udemy.com/complete-excel-finance-c...     True     95   \n",
       "4  https://www.udemy.com/how-to-maximize-your-pro...     True    200   \n",
       "\n",
       "   num_subscribers  num_reviews  num_lectures               level  \\\n",
       "0             2147           23            51          All Levels   \n",
       "1             2792          923           274          All Levels   \n",
       "2             2174           74            51  Intermediate Level   \n",
       "3             2451           11            36          All Levels   \n",
       "4             1276           45            26  Intermediate Level   \n",
       "\n",
       "   content_duration   published_timestamp           subject  \n",
       "0               1.5  2017-01-18T20:58:58Z  Business Finance  \n",
       "1              39.0  2017-03-09T16:34:20Z  Business Finance  \n",
       "2               2.5  2016-12-19T19:26:30Z  Business Finance  \n",
       "3               3.0  2017-05-30T20:07:24Z  Business Finance  \n",
       "4               2.0  2016-12-13T14:57:18Z  Business Finance  "
      ]
     },
     "execution_count": 32,
     "metadata": {},
     "output_type": "execute_result"
    }
   ],
   "source": [
    "data=pd.read_csv(\"udemy_courses.csv\")\n",
    "data.head()"
   ]
  },
  {
   "cell_type": "markdown",
   "id": "9104a501",
   "metadata": {},
   "source": [
    "# 1. Get the Information about the Dataset"
   ]
  },
  {
   "cell_type": "code",
   "execution_count": 33,
   "id": "e98cbb8a",
   "metadata": {},
   "outputs": [
    {
     "name": "stdout",
     "output_type": "stream",
     "text": [
      "<class 'pandas.core.frame.DataFrame'>\n",
      "RangeIndex: 3678 entries, 0 to 3677\n",
      "Data columns (total 12 columns):\n",
      " #   Column               Non-Null Count  Dtype  \n",
      "---  ------               --------------  -----  \n",
      " 0   course_id            3678 non-null   int64  \n",
      " 1   course_title         3678 non-null   object \n",
      " 2   url                  3678 non-null   object \n",
      " 3   is_paid              3678 non-null   bool   \n",
      " 4   price                3678 non-null   int64  \n",
      " 5   num_subscribers      3678 non-null   int64  \n",
      " 6   num_reviews          3678 non-null   int64  \n",
      " 7   num_lectures         3678 non-null   int64  \n",
      " 8   level                3678 non-null   object \n",
      " 9   content_duration     3678 non-null   float64\n",
      " 10  published_timestamp  3678 non-null   object \n",
      " 11  subject              3678 non-null   object \n",
      "dtypes: bool(1), float64(1), int64(5), object(5)\n",
      "memory usage: 319.8+ KB\n"
     ]
    }
   ],
   "source": [
    "data.info()"
   ]
  },
  {
   "cell_type": "code",
   "execution_count": 34,
   "id": "8a9f2e82",
   "metadata": {},
   "outputs": [
    {
     "name": "stdout",
     "output_type": "stream",
     "text": [
      "<class 'pandas.core.frame.DataFrame'>\n",
      "RangeIndex: 3678 entries, 0 to 3677\n",
      "Data columns (total 12 columns):\n",
      " #   Column               Non-Null Count  Dtype              \n",
      "---  ------               --------------  -----              \n",
      " 0   course_id            3678 non-null   int64              \n",
      " 1   course_title         3678 non-null   object             \n",
      " 2   url                  3678 non-null   object             \n",
      " 3   is_paid              3678 non-null   bool               \n",
      " 4   price                3678 non-null   int64              \n",
      " 5   num_subscribers      3678 non-null   int64              \n",
      " 6   num_reviews          3678 non-null   int64              \n",
      " 7   num_lectures         3678 non-null   int64              \n",
      " 8   level                3678 non-null   object             \n",
      " 9   content_duration     3678 non-null   float64            \n",
      " 10  published_timestamp  3678 non-null   datetime64[ns, UTC]\n",
      " 11  subject              3678 non-null   object             \n",
      "dtypes: bool(1), datetime64[ns, UTC](1), float64(1), int64(5), object(4)\n",
      "memory usage: 319.8+ KB\n"
     ]
    }
   ],
   "source": [
    "#In order to change the dtype of published_timestamp to datetime format\n",
    "#Use the parse_dates arguments of pandas \n",
    "data=pd.read_csv(\"udemy_courses.csv\",parse_dates=['published_timestamp'])\n",
    "data.info()"
   ]
  },
  {
   "cell_type": "markdown",
   "id": "248c2ea5",
   "metadata": {},
   "source": [
    "# 2. Display the shape of the given dataset "
   ]
  },
  {
   "cell_type": "code",
   "execution_count": 35,
   "id": "fffda3db",
   "metadata": {},
   "outputs": [
    {
     "data": {
      "text/plain": [
       "(3678, 12)"
      ]
     },
     "execution_count": 35,
     "metadata": {},
     "output_type": "execute_result"
    }
   ],
   "source": [
    "data.shape"
   ]
  },
  {
   "cell_type": "code",
   "execution_count": 36,
   "id": "b81ffe62",
   "metadata": {},
   "outputs": [
    {
     "name": "stdout",
     "output_type": "stream",
     "text": [
      "No. of Rows= 3678\n",
      "No. of Columns= 12\n"
     ]
    }
   ],
   "source": [
    "print(\"No. of Rows=\",data.shape[0])\n",
    "print(\"No. of Columns=\",data.shape[1])"
   ]
  },
  {
   "cell_type": "markdown",
   "id": "2e2892ca",
   "metadata": {},
   "source": [
    "# 3. How many courses are there in the dataset?"
   ]
  },
  {
   "cell_type": "code",
   "execution_count": 37,
   "id": "d9f9c549",
   "metadata": {},
   "outputs": [
    {
     "data": {
      "text/plain": [
       "Index(['course_id', 'course_title', 'url', 'is_paid', 'price',\n",
       "       'num_subscribers', 'num_reviews', 'num_lectures', 'level',\n",
       "       'content_duration', 'published_timestamp', 'subject'],\n",
       "      dtype='object')"
      ]
     },
     "execution_count": 37,
     "metadata": {},
     "output_type": "execute_result"
    }
   ],
   "source": [
    "data.columns"
   ]
  },
  {
   "cell_type": "code",
   "execution_count": 38,
   "id": "d6f2671f",
   "metadata": {},
   "outputs": [
    {
     "data": {
      "text/plain": [
       "course_title\n",
       "Acoustic Blues Guitar Lessons                           3\n",
       "Creating an animated greeting card via Google Slides    3\n",
       "CFA Level 2- Quantitative Methods                       2\n",
       "Essentials of money value: Get a financial Life !       2\n",
       "Drum Lessons For Beginners                              2\n",
       "                                                       ..\n",
       "Drawing Perspective For Beginners                       1\n",
       "Adobe InDesign CC Advanced                              1\n",
       "Intro to Photoshop for Merch by Amazon                  1\n",
       "Photoshop - Creación de Efectos 2                       1\n",
       "Using MODX CMS to Build Websites: A Beginner's Guide    1\n",
       "Name: count, Length: 3663, dtype: int64"
      ]
     },
     "execution_count": 38,
     "metadata": {},
     "output_type": "execute_result"
    }
   ],
   "source": [
    "data['course_title'].value_counts()"
   ]
  },
  {
   "cell_type": "code",
   "execution_count": 39,
   "id": "2fdbf7ee",
   "metadata": {},
   "outputs": [
    {
     "data": {
      "text/plain": [
       "3663"
      ]
     },
     "execution_count": 39,
     "metadata": {},
     "output_type": "execute_result"
    }
   ],
   "source": [
    "len(data['course_title'].value_counts()) #Answer"
   ]
  },
  {
   "cell_type": "markdown",
   "id": "70b3851b",
   "metadata": {},
   "source": [
    "# 4. What are the unique course levels available in the dataset?"
   ]
  },
  {
   "cell_type": "code",
   "execution_count": 11,
   "id": "82186c7b",
   "metadata": {},
   "outputs": [
    {
     "data": {
      "text/plain": [
       "array(['All Levels', 'Intermediate Level', 'Beginner Level',\n",
       "       'Expert Level'], dtype=object)"
      ]
     },
     "execution_count": 11,
     "metadata": {},
     "output_type": "execute_result"
    }
   ],
   "source": [
    "data['level'].unique()"
   ]
  },
  {
   "cell_type": "markdown",
   "id": "fabe8f58",
   "metadata": {},
   "source": [
    "# 5. What is the average price of the courses based on Subject?"
   ]
  },
  {
   "cell_type": "code",
   "execution_count": 12,
   "id": "75ef79df",
   "metadata": {},
   "outputs": [
    {
     "data": {
      "text/plain": [
       "subject\n",
       "Business Finance       68.552301\n",
       "Graphic Design         57.827529\n",
       "Musical Instruments    49.558824\n",
       "Web Development        77.033333\n",
       "Name: price, dtype: float64"
      ]
     },
     "execution_count": 12,
     "metadata": {},
     "output_type": "execute_result"
    }
   ],
   "source": [
    "data.groupby('subject')['price'].mean()"
   ]
  },
  {
   "cell_type": "markdown",
   "id": "d238d85b",
   "metadata": {},
   "source": [
    "# 6. How many courses are paid, and how many are free?"
   ]
  },
  {
   "cell_type": "code",
   "execution_count": 27,
   "id": "e03b2e59",
   "metadata": {},
   "outputs": [
    {
     "data": {
      "text/plain": [
       "is_paid\n",
       "True     3368\n",
       "False     310\n",
       "Name: count, dtype: int64"
      ]
     },
     "execution_count": 27,
     "metadata": {},
     "output_type": "execute_result"
    }
   ],
   "source": [
    "data['is_paid'].value_counts()   # True indicates paid , False indicates Free"
   ]
  },
  {
   "cell_type": "code",
   "execution_count": 130,
   "id": "ec2f523c",
   "metadata": {},
   "outputs": [
    {
     "data": {
      "image/png": "[encoded data removed]",
      "text/plain": [
       "<Figure size 640x480 with 1 Axes>"
      ]
     },
     "metadata": {},
     "output_type": "display_data"
    }
   ],
   "source": [
    "#Visualization: Countplot using seaborn\n",
    "sns.countplot(data=data, x='is_paid')\n",
    "plt.title('Number of Paid and Free Courses')\n",
    "plt.xlabel('Paid Status')\n",
    "plt.ylabel('Count')\n",
    "plt.tight_layout()\n",
    "plt.show()"
   ]
  },
  {
   "cell_type": "markdown",
   "id": "f759408e",
   "metadata": {},
   "source": [
    "# 7. Which subject has the highest number of courses?"
   ]
  },
  {
   "cell_type": "code",
   "execution_count": 70,
   "id": "100ac177",
   "metadata": {},
   "outputs": [
    {
     "data": {
      "text/plain": [
       "subject\n",
       "Web Development        1200\n",
       "Business Finance       1195\n",
       "Musical Instruments     680\n",
       "Graphic Design          603\n",
       "Name: count, dtype: int64"
      ]
     },
     "execution_count": 70,
     "metadata": {},
     "output_type": "execute_result"
    }
   ],
   "source": [
    "data['subject'].value_counts()"
   ]
  },
  {
   "cell_type": "code",
   "execution_count": 71,
   "id": "17a7302d",
   "metadata": {},
   "outputs": [
    {
     "data": {
      "image/png": "[encoded data removed]",
      "text/plain": [
       "<Figure size 640x480 with 1 Axes>"
      ]
     },
     "metadata": {},
     "output_type": "display_data"
    }
   ],
   "source": [
    "#Visulization: Countplot using seaborn \n",
    "sns.countplot(data=data, x='subject')\n",
    "plt.xlabel('Subject')\n",
    "plt.ylabel('Count')\n",
    "plt.title('Distribution of courses by Subject ')\n",
    "plt.xticks(rotation=50)\n",
    "plt.show()"
   ]
  },
  {
   "cell_type": "markdown",
   "id": "a4d3bb45",
   "metadata": {},
   "source": [
    "# 8. What is the maximum number of subscribers for a course?"
   ]
  },
  {
   "cell_type": "code",
   "execution_count": 72,
   "id": "a7a0eefc",
   "metadata": {},
   "outputs": [
    {
     "data": {
      "text/plain": [
       "Index(['course_id', 'course_title', 'url', 'is_paid', 'price',\n",
       "       'num_subscribers', 'num_reviews', 'num_lectures', 'level',\n",
       "       'content_duration', 'published_timestamp', 'subject'],\n",
       "      dtype='object')"
      ]
     },
     "execution_count": 72,
     "metadata": {},
     "output_type": "execute_result"
    }
   ],
   "source": [
    "data.columns"
   ]
  },
  {
   "cell_type": "code",
   "execution_count": 73,
   "id": "7ca623a9",
   "metadata": {},
   "outputs": [
    {
     "data": {
      "text/html": [
       "<div>\n",
       "<style scoped>\n",
       "    .dataframe tbody tr th:only-of-type {\n",
       "        vertical-align: middle;\n",
       "    }\n",
       "\n",
       "    .dataframe tbody tr th {\n",
       "        vertical-align: top;\n",
       "    }\n",
       "\n",
       "    .dataframe thead th {\n",
       "        text-align: right;\n",
       "    }\n",
       "</style>\n",
       "<table border=\"1\" class=\"dataframe\">\n",
       "  <thead>\n",
       "    <tr style=\"text-align: right;\">\n",
       "      <th></th>\n",
       "      <th>course_id</th>\n",
       "      <th>course_title</th>\n",
       "      <th>url</th>\n",
       "      <th>is_paid</th>\n",
       "      <th>price</th>\n",
       "      <th>num_subscribers</th>\n",
       "      <th>num_reviews</th>\n",
       "      <th>num_lectures</th>\n",
       "      <th>level</th>\n",
       "      <th>content_duration</th>\n",
       "      <th>published_timestamp</th>\n",
       "      <th>subject</th>\n",
       "    </tr>\n",
       "  </thead>\n",
       "  <tbody>\n",
       "    <tr>\n",
       "      <th>2827</th>\n",
       "      <td>41295</td>\n",
       "      <td>Learn HTML5 Programming From Scratch</td>\n",
       "      <td>https://www.udemy.com/learn-html5-programming-...</td>\n",
       "      <td>False</td>\n",
       "      <td>0</td>\n",
       "      <td>268923</td>\n",
       "      <td>8629</td>\n",
       "      <td>45</td>\n",
       "      <td>All Levels</td>\n",
       "      <td>10.5</td>\n",
       "      <td>2013-02-14 07:03:41+00:00</td>\n",
       "      <td>Web Development</td>\n",
       "    </tr>\n",
       "  </tbody>\n",
       "</table>\n",
       "</div>"
      ],
      "text/plain": [
       "      course_id                          course_title  \\\n",
       "2827      41295  Learn HTML5 Programming From Scratch   \n",
       "\n",
       "                                                    url  is_paid  price  \\\n",
       "2827  https://www.udemy.com/learn-html5-programming-...    False      0   \n",
       "\n",
       "      num_subscribers  num_reviews  num_lectures       level  \\\n",
       "2827           268923         8629            45  All Levels   \n",
       "\n",
       "      content_duration       published_timestamp          subject  \n",
       "2827              10.5 2013-02-14 07:03:41+00:00  Web Development  "
      ]
     },
     "execution_count": 73,
     "metadata": {},
     "output_type": "execute_result"
    }
   ],
   "source": [
    "data[data['num_subscribers'].max()==data['num_subscribers']]"
   ]
  },
  {
   "cell_type": "code",
   "execution_count": 74,
   "id": "74f184d2",
   "metadata": {},
   "outputs": [
    {
     "data": {
      "text/plain": [
       "2827    Learn HTML5 Programming From Scratch\n",
       "Name: course_title, dtype: object"
      ]
     },
     "execution_count": 74,
     "metadata": {},
     "output_type": "execute_result"
    }
   ],
   "source": [
    "data[data['num_subscribers'].max()==data['num_subscribers']]['course_title']   #Answer"
   ]
  },
  {
   "cell_type": "markdown",
   "id": "307946b6",
   "metadata": {},
   "source": [
    "# 9. How many courses have more than 10,000 subscribers?"
   ]
  },
  {
   "cell_type": "code",
   "execution_count": 75,
   "id": "2596f73c",
   "metadata": {},
   "outputs": [
    {
     "data": {
      "text/plain": [
       "1896                Free Beginner Electric Guitar Lessons\n",
       "2783    Build Your First Website in 1 Week with HTML5 ...\n",
       "2827                 Learn HTML5 Programming From Scratch\n",
       "3032                       Coding for Entrepreneurs Basic\n",
       "3230                           The Web Developer Bootcamp\n",
       "3232                The Complete Web Developer Course 2.0\n",
       "Name: course_title, dtype: object"
      ]
     },
     "execution_count": 75,
     "metadata": {},
     "output_type": "execute_result"
    }
   ],
   "source": [
    "data[data['num_subscribers']>100000]['course_title']     #With Course_title"
   ]
  },
  {
   "cell_type": "code",
   "execution_count": 76,
   "id": "95aa638d",
   "metadata": {},
   "outputs": [
    {
     "data": {
      "text/plain": [
       "6"
      ]
     },
     "execution_count": 76,
     "metadata": {},
     "output_type": "execute_result"
    }
   ],
   "source": [
    "len(data[data['num_subscribers']>100000])     # Answer"
   ]
  },
  {
   "cell_type": "code",
   "execution_count": 77,
   "id": "52fe4b38",
   "metadata": {},
   "outputs": [
    {
     "data": {
      "image/png": "[encoded data removed]",
      "text/plain": [
       "<Figure size 640x480 with 1 Axes>"
      ]
     },
     "metadata": {},
     "output_type": "display_data"
    }
   ],
   "source": [
    "#Visulization: barplot using seaborn\n",
    "data1=data[data['num_subscribers']>100000]\n",
    "sns.barplot(data=data1, x='course_title', y='num_subscribers')\n",
    "plt.title('Courses with More than 10,000 Subscribers')\n",
    "plt.xlabel('Course Title')\n",
    "plt.ylabel('No. of Subscribers')\n",
    "plt.xticks(rotation=90)\n",
    "plt.show()"
   ]
  },
  {
   "cell_type": "markdown",
   "id": "57074cbc",
   "metadata": {},
   "source": [
    "# 10. What is the average number of reviews for all courses?"
   ]
  },
  {
   "cell_type": "code",
   "execution_count": 78,
   "id": "8ce89863",
   "metadata": {},
   "outputs": [
    {
     "data": {
      "text/plain": [
       "Index(['course_id', 'course_title', 'url', 'is_paid', 'price',\n",
       "       'num_subscribers', 'num_reviews', 'num_lectures', 'level',\n",
       "       'content_duration', 'published_timestamp', 'subject'],\n",
       "      dtype='object')"
      ]
     },
     "execution_count": 78,
     "metadata": {},
     "output_type": "execute_result"
    }
   ],
   "source": [
    "data.columns"
   ]
  },
  {
   "cell_type": "code",
   "execution_count": 79,
   "id": "e00cf7dc",
   "metadata": {},
   "outputs": [
    {
     "data": {
      "text/plain": [
       "156.25910821098424"
      ]
     },
     "execution_count": 79,
     "metadata": {},
     "output_type": "execute_result"
    }
   ],
   "source": [
    "data['num_reviews'].mean()"
   ]
  },
  {
   "cell_type": "markdown",
   "id": "e7a0f3dd",
   "metadata": {},
   "source": [
    "# 11. Which course has the highest number of lectures?"
   ]
  },
  {
   "cell_type": "code",
   "execution_count": 80,
   "id": "03157c65",
   "metadata": {},
   "outputs": [
    {
     "data": {
      "text/html": [
       "<div>\n",
       "<style scoped>\n",
       "    .dataframe tbody tr th:only-of-type {\n",
       "        vertical-align: middle;\n",
       "    }\n",
       "\n",
       "    .dataframe tbody tr th {\n",
       "        vertical-align: top;\n",
       "    }\n",
       "\n",
       "    .dataframe thead th {\n",
       "        text-align: right;\n",
       "    }\n",
       "</style>\n",
       "<table border=\"1\" class=\"dataframe\">\n",
       "  <thead>\n",
       "    <tr style=\"text-align: right;\">\n",
       "      <th></th>\n",
       "      <th>course_id</th>\n",
       "      <th>course_title</th>\n",
       "      <th>url</th>\n",
       "      <th>is_paid</th>\n",
       "      <th>price</th>\n",
       "      <th>num_subscribers</th>\n",
       "      <th>num_reviews</th>\n",
       "      <th>num_lectures</th>\n",
       "      <th>level</th>\n",
       "      <th>content_duration</th>\n",
       "      <th>published_timestamp</th>\n",
       "      <th>subject</th>\n",
       "    </tr>\n",
       "  </thead>\n",
       "  <tbody>\n",
       "    <tr>\n",
       "      <th>2707</th>\n",
       "      <td>79154</td>\n",
       "      <td>Back to School Web Development and Programming...</td>\n",
       "      <td>https://www.udemy.com/back-to-school-web-devel...</td>\n",
       "      <td>True</td>\n",
       "      <td>200</td>\n",
       "      <td>18170</td>\n",
       "      <td>117</td>\n",
       "      <td>779</td>\n",
       "      <td>Beginner Level</td>\n",
       "      <td>44.5</td>\n",
       "      <td>2013-08-19 14:53:00+00:00</td>\n",
       "      <td>Web Development</td>\n",
       "    </tr>\n",
       "  </tbody>\n",
       "</table>\n",
       "</div>"
      ],
      "text/plain": [
       "      course_id                                       course_title  \\\n",
       "2707      79154  Back to School Web Development and Programming...   \n",
       "\n",
       "                                                    url  is_paid  price  \\\n",
       "2707  https://www.udemy.com/back-to-school-web-devel...     True    200   \n",
       "\n",
       "      num_subscribers  num_reviews  num_lectures           level  \\\n",
       "2707            18170          117           779  Beginner Level   \n",
       "\n",
       "      content_duration       published_timestamp          subject  \n",
       "2707              44.5 2013-08-19 14:53:00+00:00  Web Development  "
      ]
     },
     "execution_count": 80,
     "metadata": {},
     "output_type": "execute_result"
    }
   ],
   "source": [
    "data[data['num_lectures'].max()==data['num_lectures']]"
   ]
  },
  {
   "cell_type": "code",
   "execution_count": 81,
   "id": "b72aeb5d",
   "metadata": {},
   "outputs": [
    {
     "data": {
      "text/plain": [
       "2707    Back to School Web Development and Programming...\n",
       "Name: course_title, dtype: object"
      ]
     },
     "execution_count": 81,
     "metadata": {},
     "output_type": "execute_result"
    }
   ],
   "source": [
    "data[data['num_lectures'].max()==data['num_lectures']]['course_title']"
   ]
  },
  {
   "cell_type": "markdown",
   "id": "e34e770f",
   "metadata": {},
   "source": [
    "# 12. What is the average number of lectures across all courses?"
   ]
  },
  {
   "cell_type": "code",
   "execution_count": 82,
   "id": "96d40f32",
   "metadata": {},
   "outputs": [
    {
     "data": {
      "text/plain": [
       "40.108754758020666"
      ]
     },
     "execution_count": 82,
     "metadata": {},
     "output_type": "execute_result"
    }
   ],
   "source": [
    "data['num_lectures'].mean()"
   ]
  },
  {
   "cell_type": "markdown",
   "id": "a3ab7383",
   "metadata": {},
   "source": [
    "# 13. What is the average content duration of courses in hours?"
   ]
  },
  {
   "cell_type": "code",
   "execution_count": 83,
   "id": "59addb6f",
   "metadata": {},
   "outputs": [],
   "source": [
    "#In the Given Dataset the content duration is already in the form of hrs so we can just take average of it \n",
    "#Suppose if the content duration is not in the form of hrs we need to convert it by dividing it by 60 "
   ]
  },
  {
   "cell_type": "code",
   "execution_count": 163,
   "id": "78bfd152",
   "metadata": {},
   "outputs": [
    {
     "data": {
      "text/plain": [
       "4.094516947616459"
      ]
     },
     "execution_count": 163,
     "metadata": {},
     "output_type": "execute_result"
    }
   ],
   "source": [
    "data['content_duration'].mean()"
   ]
  },
  {
   "cell_type": "code",
   "execution_count": 194,
   "id": "ea94930f",
   "metadata": {},
   "outputs": [
    {
     "data": {
      "image/png": "[encoded data removed]",
      "text/plain": [
       "<Figure size 1000x600 with 1 Axes>"
      ]
     },
     "metadata": {},
     "output_type": "display_data"
    }
   ],
   "source": [
    "#Visualization: Histogram by using Seaborn\n",
    "plt.figure(figsize=(10,6))\n",
    "sns.histplot(data=data,x='content_duration',bins=20,edgecolor='black',lw=2,color='green',kde=True)\n",
    "plt.axvline(data['content_duration'].mean(),color='red',ls='dashed',lw=2,label='Average')\n",
    "plt.title('Distribution of Content Duration for All Courses in Hrs')\n",
    "plt.xlabel('Content Duration in hrs')\n",
    "plt.ylabel('Frequency')\n",
    "plt.legend()\n",
    "plt.xticks(rotation=90)\n",
    "plt.show()"
   ]
  },
  {
   "cell_type": "markdown",
   "id": "82c4bf8a",
   "metadata": {},
   "source": [
    "# 14. How many courses were published in each year?  (Based on the  'published_timestamp')"
   ]
  },
  {
   "cell_type": "code",
   "execution_count": 85,
   "id": "83a855ee",
   "metadata": {},
   "outputs": [
    {
     "data": {
      "text/plain": [
       "Index(['course_id', 'course_title', 'url', 'is_paid', 'price',\n",
       "       'num_subscribers', 'num_reviews', 'num_lectures', 'level',\n",
       "       'content_duration', 'published_timestamp', 'subject'],\n",
       "      dtype='object')"
      ]
     },
     "execution_count": 85,
     "metadata": {},
     "output_type": "execute_result"
    }
   ],
   "source": [
    "data.columns"
   ]
  },
  {
   "cell_type": "code",
   "execution_count": 86,
   "id": "d774b9b3",
   "metadata": {},
   "outputs": [
    {
     "data": {
      "text/html": [
       "<div>\n",
       "<style scoped>\n",
       "    .dataframe tbody tr th:only-of-type {\n",
       "        vertical-align: middle;\n",
       "    }\n",
       "\n",
       "    .dataframe tbody tr th {\n",
       "        vertical-align: top;\n",
       "    }\n",
       "\n",
       "    .dataframe thead th {\n",
       "        text-align: right;\n",
       "    }\n",
       "</style>\n",
       "<table border=\"1\" class=\"dataframe\">\n",
       "  <thead>\n",
       "    <tr style=\"text-align: right;\">\n",
       "      <th></th>\n",
       "      <th>course_id</th>\n",
       "      <th>course_title</th>\n",
       "      <th>url</th>\n",
       "      <th>is_paid</th>\n",
       "      <th>price</th>\n",
       "      <th>num_subscribers</th>\n",
       "      <th>num_reviews</th>\n",
       "      <th>num_lectures</th>\n",
       "      <th>level</th>\n",
       "      <th>content_duration</th>\n",
       "      <th>published_timestamp</th>\n",
       "      <th>subject</th>\n",
       "      <th>Year</th>\n",
       "    </tr>\n",
       "  </thead>\n",
       "  <tbody>\n",
       "    <tr>\n",
       "      <th>0</th>\n",
       "      <td>1070968</td>\n",
       "      <td>Ultimate Investment Banking Course</td>\n",
       "      <td>https://www.udemy.com/ultimate-investment-bank...</td>\n",
       "      <td>True</td>\n",
       "      <td>200</td>\n",
       "      <td>2147</td>\n",
       "      <td>23</td>\n",
       "      <td>51</td>\n",
       "      <td>All Levels</td>\n",
       "      <td>1.5</td>\n",
       "      <td>2017-01-18 20:58:58+00:00</td>\n",
       "      <td>Business Finance</td>\n",
       "      <td>2017</td>\n",
       "    </tr>\n",
       "    <tr>\n",
       "      <th>1</th>\n",
       "      <td>1113822</td>\n",
       "      <td>Complete GST Course &amp; Certification - Grow You...</td>\n",
       "      <td>https://www.udemy.com/goods-and-services-tax/</td>\n",
       "      <td>True</td>\n",
       "      <td>75</td>\n",
       "      <td>2792</td>\n",
       "      <td>923</td>\n",
       "      <td>274</td>\n",
       "      <td>All Levels</td>\n",
       "      <td>39.0</td>\n",
       "      <td>2017-03-09 16:34:20+00:00</td>\n",
       "      <td>Business Finance</td>\n",
       "      <td>2017</td>\n",
       "    </tr>\n",
       "  </tbody>\n",
       "</table>\n",
       "</div>"
      ],
      "text/plain": [
       "   course_id                                       course_title  \\\n",
       "0    1070968                 Ultimate Investment Banking Course   \n",
       "1    1113822  Complete GST Course & Certification - Grow You...   \n",
       "\n",
       "                                                 url  is_paid  price  \\\n",
       "0  https://www.udemy.com/ultimate-investment-bank...     True    200   \n",
       "1      https://www.udemy.com/goods-and-services-tax/     True     75   \n",
       "\n",
       "   num_subscribers  num_reviews  num_lectures       level  content_duration  \\\n",
       "0             2147           23            51  All Levels               1.5   \n",
       "1             2792          923           274  All Levels              39.0   \n",
       "\n",
       "        published_timestamp           subject  Year  \n",
       "0 2017-01-18 20:58:58+00:00  Business Finance  2017  \n",
       "1 2017-03-09 16:34:20+00:00  Business Finance  2017  "
      ]
     },
     "execution_count": 86,
     "metadata": {},
     "output_type": "execute_result"
    }
   ],
   "source": [
    "data['Year']=data['published_timestamp'].dt.year\n",
    "data.head(2)"
   ]
  },
  {
   "cell_type": "code",
   "execution_count": 87,
   "id": "e624f7b1",
   "metadata": {},
   "outputs": [
    {
     "data": {
      "text/plain": [
       "Year  course_title                                                \n",
       "2011  Become a Certified Web Developer                                1\n",
       "      Become a Web Developer from Scratch                             1\n",
       "      HTML Tutorial: HTML & CSS for Beginners                         1\n",
       "      Javascript for Beginners                                        1\n",
       "      Learn jQuery: An In-depth Course For Beginners                  1\n",
       "                                                                     ..\n",
       "2017  Build a Complete Registration and Login System using PHP MVC    1\n",
       "      Build a Real-world App with ASP.NET Core and Angular 2 (4+)     1\n",
       "      Build a Single Page Application with jQuery & AJAX              1\n",
       "      Build a complete Fiverr clone with Node + Algolia + Paypal      1\n",
       "      캔바(Canva)로 SNS 콘텐츠 만들기                                          1\n",
       "Name: count, Length: 3669, dtype: int64"
      ]
     },
     "execution_count": 87,
     "metadata": {},
     "output_type": "execute_result"
    }
   ],
   "source": [
    "data.groupby('Year')['course_title'].value_counts()  "
   ]
  },
  {
   "cell_type": "code",
   "execution_count": 88,
   "id": "86a23680",
   "metadata": {},
   "outputs": [
    {
     "data": {
      "text/plain": [
       "Year\n",
       "2016    1206\n",
       "2015    1014\n",
       "2017     715\n",
       "2014     491\n",
       "2013     202\n",
       "2012      45\n",
       "2011       5\n",
       "Name: count, dtype: int64"
      ]
     },
     "execution_count": 88,
     "metadata": {},
     "output_type": "execute_result"
    }
   ],
   "source": [
    "data['Year'].value_counts() #Answer"
   ]
  },
  {
   "cell_type": "code",
   "execution_count": 89,
   "id": "72fe3611",
   "metadata": {},
   "outputs": [
    {
     "data": {
      "image/png": "[encoded data removed]",
      "text/plain": [
       "<Figure size 640x480 with 1 Axes>"
      ]
     },
     "metadata": {},
     "output_type": "display_data"
    }
   ],
   "source": [
    "#Visualization: countplot using seaborn\n",
    "sns.countplot(data=data, x='Year')\n",
    "plt.title('Number of Courses Published in Each Year')\n",
    "plt.xlabel('Years')\n",
    "plt.ylabel('Number  of Course')\n",
    "plt.show()"
   ]
  },
  {
   "cell_type": "markdown",
   "id": "0bad12b2",
   "metadata": {},
   "source": [
    "# 15. What is the average number of subscribers for courses in each subject?"
   ]
  },
  {
   "cell_type": "code",
   "execution_count": 90,
   "id": "b59bdd51",
   "metadata": {},
   "outputs": [
    {
     "data": {
      "text/plain": [
       "subject\n",
       "Business Finance       1563.774895\n",
       "Graphic Design         1763.097844\n",
       "Musical Instruments    1245.130882\n",
       "Web Development        6650.476667\n",
       "Name: num_subscribers, dtype: float64"
      ]
     },
     "execution_count": 90,
     "metadata": {},
     "output_type": "execute_result"
    }
   ],
   "source": [
    "data.groupby('subject')['num_subscribers'].mean()"
   ]
  },
  {
   "cell_type": "code",
   "execution_count": 106,
   "id": "65f07c3f",
   "metadata": {},
   "outputs": [
    {
     "data": {
      "image/png": "[encoded data removed]",
      "text/plain": [
       "<Figure size 640x480 with 1 Axes>"
      ]
     },
     "metadata": {},
     "output_type": "display_data"
    }
   ],
   "source": [
    "#Visualization: Barplot using seaborn\n",
    "avg_sub_by_sub=data.groupby('subject')['num_subscribers'].mean()\n",
    "sns.barplot(data=data, x=avg_sub_by_sub.index,y=avg_sub_by_sub.values)\n",
    "plt.title('Average Number of subscribers for courses in each subject')\n",
    "plt.xlabel('Subject')\n",
    "plt.ylabel('Average Number of Subscribers ')\n",
    "plt.xticks(rotation=65)\n",
    "plt.tight_layout()\n",
    "plt.show()"
   ]
  },
  {
   "cell_type": "markdown",
   "id": "b6d87d47",
   "metadata": {},
   "source": [
    "# 16.  How does the average number of reviews vary for paid and free courses?"
   ]
  },
  {
   "cell_type": "code",
   "execution_count": 107,
   "id": "7a9b3397",
   "metadata": {},
   "outputs": [
    {
     "data": {
      "text/plain": [
       "is_paid\n",
       "False    425.929032\n",
       "True     131.437945\n",
       "Name: num_reviews, dtype: float64"
      ]
     },
     "execution_count": 107,
     "metadata": {},
     "output_type": "execute_result"
    }
   ],
   "source": [
    "data.groupby('is_paid')['num_reviews'].mean()"
   ]
  },
  {
   "cell_type": "code",
   "execution_count": 115,
   "id": "3fcd71eb",
   "metadata": {},
   "outputs": [
    {
     "data": {
      "image/png": "[encoded data removed]",
      "text/plain": [
       "<Figure size 640x480 with 1 Axes>"
      ]
     },
     "metadata": {},
     "output_type": "display_data"
    }
   ],
   "source": [
    "#Visualization: Barplot using seaborn\n",
    "sns.barplot(data=data, x='is_paid',y='num_reviews',errorbar=None)\n",
    "plt.title('Average Number of Reviews for Paid and Free Courses')\n",
    "plt.xlabel('Paid Status')\n",
    "plt.ylabel('Average Number of Reviews')\n",
    "plt.xticks(rotation=45)\n",
    "plt.show()"
   ]
  },
  {
   "cell_type": "markdown",
   "id": "d571568d",
   "metadata": {},
   "source": [
    "# 17. What is the median price of the courses?"
   ]
  },
  {
   "cell_type": "code",
   "execution_count": 116,
   "id": "542b4ad9",
   "metadata": {},
   "outputs": [
    {
     "data": {
      "text/plain": [
       "45.0"
      ]
     },
     "execution_count": 116,
     "metadata": {},
     "output_type": "execute_result"
    }
   ],
   "source": [
    "data['price'].median()   #Mid Value"
   ]
  },
  {
   "cell_type": "markdown",
   "id": "f5e03e8d",
   "metadata": {},
   "source": [
    "# 18. Which course has the highest price?"
   ]
  },
  {
   "cell_type": "code",
   "execution_count": 118,
   "id": "8cdf8eb8",
   "metadata": {},
   "outputs": [
    {
     "data": {
      "text/html": [
       "<div>\n",
       "<style scoped>\n",
       "    .dataframe tbody tr th:only-of-type {\n",
       "        vertical-align: middle;\n",
       "    }\n",
       "\n",
       "    .dataframe tbody tr th {\n",
       "        vertical-align: top;\n",
       "    }\n",
       "\n",
       "    .dataframe thead th {\n",
       "        text-align: right;\n",
       "    }\n",
       "</style>\n",
       "<table border=\"1\" class=\"dataframe\">\n",
       "  <thead>\n",
       "    <tr style=\"text-align: right;\">\n",
       "      <th></th>\n",
       "      <th>course_id</th>\n",
       "      <th>course_title</th>\n",
       "      <th>url</th>\n",
       "      <th>is_paid</th>\n",
       "      <th>price</th>\n",
       "      <th>num_subscribers</th>\n",
       "      <th>num_reviews</th>\n",
       "      <th>num_lectures</th>\n",
       "      <th>level</th>\n",
       "      <th>content_duration</th>\n",
       "      <th>published_timestamp</th>\n",
       "      <th>subject</th>\n",
       "      <th>Year</th>\n",
       "    </tr>\n",
       "  </thead>\n",
       "  <tbody>\n",
       "    <tr>\n",
       "      <th>0</th>\n",
       "      <td>1070968</td>\n",
       "      <td>Ultimate Investment Banking Course</td>\n",
       "      <td>https://www.udemy.com/ultimate-investment-bank...</td>\n",
       "      <td>True</td>\n",
       "      <td>200</td>\n",
       "      <td>2147</td>\n",
       "      <td>23</td>\n",
       "      <td>51</td>\n",
       "      <td>All Levels</td>\n",
       "      <td>1.5</td>\n",
       "      <td>2017-01-18 20:58:58+00:00</td>\n",
       "      <td>Business Finance</td>\n",
       "      <td>2017</td>\n",
       "    </tr>\n",
       "    <tr>\n",
       "      <th>4</th>\n",
       "      <td>1011058</td>\n",
       "      <td>How To Maximize Your Profits Trading Options</td>\n",
       "      <td>https://www.udemy.com/how-to-maximize-your-pro...</td>\n",
       "      <td>True</td>\n",
       "      <td>200</td>\n",
       "      <td>1276</td>\n",
       "      <td>45</td>\n",
       "      <td>26</td>\n",
       "      <td>Intermediate Level</td>\n",
       "      <td>2.0</td>\n",
       "      <td>2016-12-13 14:57:18+00:00</td>\n",
       "      <td>Business Finance</td>\n",
       "      <td>2016</td>\n",
       "    </tr>\n",
       "    <tr>\n",
       "      <th>9</th>\n",
       "      <td>1167710</td>\n",
       "      <td>The Only Investment Strategy You Need For Your...</td>\n",
       "      <td>https://www.udemy.com/the-only-investment-stra...</td>\n",
       "      <td>True</td>\n",
       "      <td>200</td>\n",
       "      <td>827</td>\n",
       "      <td>14</td>\n",
       "      <td>15</td>\n",
       "      <td>All Levels</td>\n",
       "      <td>1.0</td>\n",
       "      <td>2017-04-18 18:13:32+00:00</td>\n",
       "      <td>Business Finance</td>\n",
       "      <td>2017</td>\n",
       "    </tr>\n",
       "    <tr>\n",
       "      <th>10</th>\n",
       "      <td>592338</td>\n",
       "      <td>Forex Trading Secrets of the Pros With Amazon'...</td>\n",
       "      <td>https://www.udemy.com/trading-with-amazons-aws...</td>\n",
       "      <td>True</td>\n",
       "      <td>200</td>\n",
       "      <td>4284</td>\n",
       "      <td>93</td>\n",
       "      <td>76</td>\n",
       "      <td>All Levels</td>\n",
       "      <td>5.0</td>\n",
       "      <td>2015-09-11 16:47:02+00:00</td>\n",
       "      <td>Business Finance</td>\n",
       "      <td>2015</td>\n",
       "    </tr>\n",
       "    <tr>\n",
       "      <th>11</th>\n",
       "      <td>975046</td>\n",
       "      <td>Trading Options With Money Flow</td>\n",
       "      <td>https://www.udemy.com/trading-options-using-mo...</td>\n",
       "      <td>True</td>\n",
       "      <td>200</td>\n",
       "      <td>1380</td>\n",
       "      <td>42</td>\n",
       "      <td>17</td>\n",
       "      <td>All Levels</td>\n",
       "      <td>1.0</td>\n",
       "      <td>2016-10-18 22:52:31+00:00</td>\n",
       "      <td>Business Finance</td>\n",
       "      <td>2016</td>\n",
       "    </tr>\n",
       "    <tr>\n",
       "      <th>...</th>\n",
       "      <td>...</td>\n",
       "      <td>...</td>\n",
       "      <td>...</td>\n",
       "      <td>...</td>\n",
       "      <td>...</td>\n",
       "      <td>...</td>\n",
       "      <td>...</td>\n",
       "      <td>...</td>\n",
       "      <td>...</td>\n",
       "      <td>...</td>\n",
       "      <td>...</td>\n",
       "      <td>...</td>\n",
       "      <td>...</td>\n",
       "    </tr>\n",
       "    <tr>\n",
       "      <th>3592</th>\n",
       "      <td>976854</td>\n",
       "      <td>Spring 4 Mastercourse: Covers Annotation &amp; XML...</td>\n",
       "      <td>https://www.udemy.com/java-spring-framework/</td>\n",
       "      <td>True</td>\n",
       "      <td>200</td>\n",
       "      <td>1353</td>\n",
       "      <td>53</td>\n",
       "      <td>320</td>\n",
       "      <td>Intermediate Level</td>\n",
       "      <td>23.5</td>\n",
       "      <td>2016-11-01 22:08:04+00:00</td>\n",
       "      <td>Web Development</td>\n",
       "      <td>2016</td>\n",
       "    </tr>\n",
       "    <tr>\n",
       "      <th>3620</th>\n",
       "      <td>1227578</td>\n",
       "      <td>Learning Path: The Road to Elasticsearch</td>\n",
       "      <td>https://www.udemy.com/learning-path-the-road-t...</td>\n",
       "      <td>True</td>\n",
       "      <td>200</td>\n",
       "      <td>50</td>\n",
       "      <td>5</td>\n",
       "      <td>60</td>\n",
       "      <td>Beginner Level</td>\n",
       "      <td>5.0</td>\n",
       "      <td>2017-05-29 17:56:24+00:00</td>\n",
       "      <td>Web Development</td>\n",
       "      <td>2017</td>\n",
       "    </tr>\n",
       "    <tr>\n",
       "      <th>3642</th>\n",
       "      <td>709324</td>\n",
       "      <td>Learn Web Development by Creating a Social Net...</td>\n",
       "      <td>https://www.udemy.com/meteor-tutorial/</td>\n",
       "      <td>True</td>\n",
       "      <td>200</td>\n",
       "      <td>442</td>\n",
       "      <td>48</td>\n",
       "      <td>80</td>\n",
       "      <td>Beginner Level</td>\n",
       "      <td>6.5</td>\n",
       "      <td>2015-12-30 16:53:44+00:00</td>\n",
       "      <td>Web Development</td>\n",
       "      <td>2015</td>\n",
       "    </tr>\n",
       "    <tr>\n",
       "      <th>3652</th>\n",
       "      <td>919354</td>\n",
       "      <td>Learn Bootstrap 4 The Most Popular HTML5 CSS3 ...</td>\n",
       "      <td>https://www.udemy.com/learn-bootstrap-4-the-mo...</td>\n",
       "      <td>True</td>\n",
       "      <td>200</td>\n",
       "      <td>279</td>\n",
       "      <td>37</td>\n",
       "      <td>119</td>\n",
       "      <td>All Levels</td>\n",
       "      <td>10.0</td>\n",
       "      <td>2017-04-25 00:57:35+00:00</td>\n",
       "      <td>Web Development</td>\n",
       "      <td>2017</td>\n",
       "    </tr>\n",
       "    <tr>\n",
       "      <th>3654</th>\n",
       "      <td>949134</td>\n",
       "      <td>The Extreme Web Development Course - For Begin...</td>\n",
       "      <td>https://www.udemy.com/the-extreme-web-developm...</td>\n",
       "      <td>True</td>\n",
       "      <td>200</td>\n",
       "      <td>1420</td>\n",
       "      <td>62</td>\n",
       "      <td>152</td>\n",
       "      <td>All Levels</td>\n",
       "      <td>5.5</td>\n",
       "      <td>2016-09-04 20:51:08+00:00</td>\n",
       "      <td>Web Development</td>\n",
       "      <td>2016</td>\n",
       "    </tr>\n",
       "  </tbody>\n",
       "</table>\n",
       "<p>295 rows × 13 columns</p>\n",
       "</div>"
      ],
      "text/plain": [
       "      course_id                                       course_title  \\\n",
       "0       1070968                 Ultimate Investment Banking Course   \n",
       "4       1011058       How To Maximize Your Profits Trading Options   \n",
       "9       1167710  The Only Investment Strategy You Need For Your...   \n",
       "10       592338  Forex Trading Secrets of the Pros With Amazon'...   \n",
       "11       975046                    Trading Options With Money Flow   \n",
       "...         ...                                                ...   \n",
       "3592     976854  Spring 4 Mastercourse: Covers Annotation & XML...   \n",
       "3620    1227578           Learning Path: The Road to Elasticsearch   \n",
       "3642     709324  Learn Web Development by Creating a Social Net...   \n",
       "3652     919354  Learn Bootstrap 4 The Most Popular HTML5 CSS3 ...   \n",
       "3654     949134  The Extreme Web Development Course - For Begin...   \n",
       "\n",
       "                                                    url  is_paid  price  \\\n",
       "0     https://www.udemy.com/ultimate-investment-bank...     True    200   \n",
       "4     https://www.udemy.com/how-to-maximize-your-pro...     True    200   \n",
       "9     https://www.udemy.com/the-only-investment-stra...     True    200   \n",
       "10    https://www.udemy.com/trading-with-amazons-aws...     True    200   \n",
       "11    https://www.udemy.com/trading-options-using-mo...     True    200   \n",
       "...                                                 ...      ...    ...   \n",
       "3592       https://www.udemy.com/java-spring-framework/     True    200   \n",
       "3620  https://www.udemy.com/learning-path-the-road-t...     True    200   \n",
       "3642             https://www.udemy.com/meteor-tutorial/     True    200   \n",
       "3652  https://www.udemy.com/learn-bootstrap-4-the-mo...     True    200   \n",
       "3654  https://www.udemy.com/the-extreme-web-developm...     True    200   \n",
       "\n",
       "      num_subscribers  num_reviews  num_lectures               level  \\\n",
       "0                2147           23            51          All Levels   \n",
       "4                1276           45            26  Intermediate Level   \n",
       "9                 827           14            15          All Levels   \n",
       "10               4284           93            76          All Levels   \n",
       "11               1380           42            17          All Levels   \n",
       "...               ...          ...           ...                 ...   \n",
       "3592             1353           53           320  Intermediate Level   \n",
       "3620               50            5            60      Beginner Level   \n",
       "3642              442           48            80      Beginner Level   \n",
       "3652              279           37           119          All Levels   \n",
       "3654             1420           62           152          All Levels   \n",
       "\n",
       "      content_duration       published_timestamp           subject  Year  \n",
       "0                  1.5 2017-01-18 20:58:58+00:00  Business Finance  2017  \n",
       "4                  2.0 2016-12-13 14:57:18+00:00  Business Finance  2016  \n",
       "9                  1.0 2017-04-18 18:13:32+00:00  Business Finance  2017  \n",
       "10                 5.0 2015-09-11 16:47:02+00:00  Business Finance  2015  \n",
       "11                 1.0 2016-10-18 22:52:31+00:00  Business Finance  2016  \n",
       "...                ...                       ...               ...   ...  \n",
       "3592              23.5 2016-11-01 22:08:04+00:00   Web Development  2016  \n",
       "3620               5.0 2017-05-29 17:56:24+00:00   Web Development  2017  \n",
       "3642               6.5 2015-12-30 16:53:44+00:00   Web Development  2015  \n",
       "3652              10.0 2017-04-25 00:57:35+00:00   Web Development  2017  \n",
       "3654               5.5 2016-09-04 20:51:08+00:00   Web Development  2016  \n",
       "\n",
       "[295 rows x 13 columns]"
      ]
     },
     "execution_count": 118,
     "metadata": {},
     "output_type": "execute_result"
    }
   ],
   "source": [
    "highest_price=data[data['price'].max()==data['price']]\n",
    "highest_price"
   ]
  },
  {
   "cell_type": "code",
   "execution_count": 119,
   "id": "8a9d4a4a",
   "metadata": {},
   "outputs": [
    {
     "data": {
      "text/plain": [
       "'The Web Developer Bootcamp'"
      ]
     },
     "execution_count": 119,
     "metadata": {},
     "output_type": "execute_result"
    }
   ],
   "source": [
    "highest_price_sort=highest_price.sort_values(by='num_subscribers',ascending=False)['course_title']\n",
    "\n",
    "highest_price_sort.iloc[0] #It contain highest price as well as Subscribers"
   ]
  },
  {
   "cell_type": "markdown",
   "id": "e31b9910",
   "metadata": {},
   "source": [
    "# 19. How many courses are there for each course level?"
   ]
  },
  {
   "cell_type": "code",
   "execution_count": 120,
   "id": "e5c34572",
   "metadata": {},
   "outputs": [
    {
     "data": {
      "text/plain": [
       "level\n",
       "All Levels            1929\n",
       "Beginner Level        1270\n",
       "Intermediate Level     421\n",
       "Expert Level            58\n",
       "Name: count, dtype: int64"
      ]
     },
     "execution_count": 120,
     "metadata": {},
     "output_type": "execute_result"
    }
   ],
   "source": [
    "data['level'].value_counts()"
   ]
  },
  {
   "cell_type": "code",
   "execution_count": 122,
   "id": "e8d2b855",
   "metadata": {},
   "outputs": [
    {
     "data": {
      "image/png": "[encoded data removed]",
      "text/plain": [
       "<Figure size 640x480 with 1 Axes>"
      ]
     },
     "metadata": {},
     "output_type": "display_data"
    }
   ],
   "source": [
    "#Visualization: Countplot using Seaborn\n",
    "sns.countplot(data=data, x='level')\n",
    "plt.title('Distribution of Courses by Level')\n",
    "plt.xlabel('Course Level')\n",
    "plt.ylabel('Count')\n",
    "plt.tight_layout()\n",
    "plt.show()"
   ]
  },
  {
   "cell_type": "markdown",
   "id": "a816759f",
   "metadata": {},
   "source": [
    "# 20. What is the average number of subscribers for courses at each level?"
   ]
  },
  {
   "cell_type": "code",
   "execution_count": 123,
   "id": "003ec25a",
   "metadata": {},
   "outputs": [
    {
     "data": {
      "text/plain": [
       "level\n",
       "All Levels            3584.798341\n",
       "Beginner Level        3190.427559\n",
       "Expert Level           865.448276\n",
       "Intermediate Level    1762.482185\n",
       "Name: num_subscribers, dtype: float64"
      ]
     },
     "execution_count": 123,
     "metadata": {},
     "output_type": "execute_result"
    }
   ],
   "source": [
    "data.groupby('level')['num_subscribers'].mean()"
   ]
  },
  {
   "cell_type": "markdown",
   "id": "30429131",
   "metadata": {},
   "source": [
    "# 21. How many courses have a title containing the word \"Python\"?"
   ]
  },
  {
   "cell_type": "code",
   "execution_count": 128,
   "id": "8b63b607",
   "metadata": {},
   "outputs": [
    {
     "data": {
      "text/plain": [
       "14       Python Algo Trading: Sentiment Trading with News\n",
       "30      Python Algo Stock Trading: Automate Your Trading!\n",
       "41      Python for Finance: Investment Fundamentals & ...\n",
       "147            Python Algo Trading: FX Trading with Oanda\n",
       "334                  Stock Technical Analysis with Python\n",
       "536                        Python for Trading & Investing\n",
       "762             Quantitative Trading Analysis with Python\n",
       "863             Investment Portfolio Analysis with Python\n",
       "1682    Learn to code in Python and learn Adobe Photos...\n",
       "2497                          Web Programming with Python\n",
       "2528          Learn Python and Django: Payment Processing\n",
       "2553    The Complete Ethical Hacking Course 2.0: Pytho...\n",
       "2570    Coding for Entrepreneurs: Learn Python, Django...\n",
       "2681    Python for Beginners: Python Programming Langu...\n",
       "2960                        Projects in Django and Python\n",
       "3133          Web Scraping with Python, Ruby & import. io\n",
       "3138    Complete Python Web Course: Build 8 Python Web...\n",
       "3160      Professional Python Web Development Using Flask\n",
       "3192    Professional RESTful API Design using Python F...\n",
       "3194              Learn Python Django - A Hands-On Course\n",
       "3197    Try Django 1.9 | Build a Blog and Learn Python...\n",
       "3200    Python and Django Full Stack Web Developer Boo...\n",
       "3203                      REST APIs with Flask and Python\n",
       "3284    Advanced Scalable Python Web Development Using...\n",
       "3326    Core: A Web App Reference Guide for Django, Py...\n",
       "3333              Introduction to QGIS Python Programming\n",
       "3343                               Python Web Programming\n",
       "3392    Python Programming: Create an Digital Marketpl...\n",
       "3507    Fun and creative web engineering with Python a...\n",
       "Name: course_title, dtype: object"
      ]
     },
     "execution_count": 128,
     "metadata": {},
     "output_type": "execute_result"
    }
   ],
   "source": [
    "data[data['course_title'].str.contains('Python',case=False)]['course_title']"
   ]
  },
  {
   "cell_type": "code",
   "execution_count": 125,
   "id": "69581f9b",
   "metadata": {},
   "outputs": [
    {
     "data": {
      "text/plain": [
       "29"
      ]
     },
     "execution_count": 125,
     "metadata": {},
     "output_type": "execute_result"
    }
   ],
   "source": [
    "len(data[data['course_title'].str.contains('Python',case=False)]['course_title'])  #Answer"
   ]
  },
  {
   "cell_type": "markdown",
   "id": "3f13ade6",
   "metadata": {},
   "source": [
    "# 22. What is the earliest and latest published timestamp in the dataset?"
   ]
  },
  {
   "cell_type": "code",
   "execution_count": 139,
   "id": "fe1f2a21",
   "metadata": {},
   "outputs": [
    {
     "data": {
      "text/plain": [
       "Index(['course_id', 'course_title', 'url', 'is_paid', 'price',\n",
       "       'num_subscribers', 'num_reviews', 'num_lectures', 'level',\n",
       "       'content_duration', 'published_timestamp', 'subject', 'Year'],\n",
       "      dtype='object')"
      ]
     },
     "execution_count": 139,
     "metadata": {},
     "output_type": "execute_result"
    }
   ],
   "source": [
    "data.columns"
   ]
  },
  {
   "cell_type": "code",
   "execution_count": 144,
   "id": "cbc1702a",
   "metadata": {},
   "outputs": [
    {
     "name": "stdout",
     "output_type": "stream",
     "text": [
      "The Earliest Published Timestamp in the dataset is  2011-07-09 05:43:31+00:00\n",
      "The Latest Published Timestamp in the dataset is  2017-07-06 21:46:30+00:00\n"
     ]
    }
   ],
   "source": [
    "print(\"The Earliest Published Timestamp in the dataset is \",data['published_timestamp'].min())\n",
    "print(\"The Latest Published Timestamp in the dataset is \",data['published_timestamp'].max())"
   ]
  }
 ],
 "metadata": {
  "kernelspec": {
   "display_name": "Python 3 (ipykernel)",
   "language": "python",
   "name": "python3"
  },
  "language_info": {
   "codemirror_mode": {
    "name": "ipython",
    "version": 3
   },
   "file_extension": ".py",
   "mimetype": "text/x-python",
   "name": "python",
   "nbconvert_exporter": "python",
   "pygments_lexer": "ipython3",
   "version": "3.11.4"
  }
 },
 "nbformat": 4,
 "nbformat_minor": 5
}
